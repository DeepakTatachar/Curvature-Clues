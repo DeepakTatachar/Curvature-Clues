{
 "cells": [
  {
   "cell_type": "code",
   "execution_count": 2,
   "metadata": {},
   "outputs": [
    {
     "name": "stdout",
     "output_type": "stream",
     "text": [
      "Files already downloaded and verified\n",
      "Files already downloaded and verified\n",
      "Files already downloaded and verified\n"
     ]
    }
   ],
   "source": [
    "from utils.load_dataset import load_dataset\n",
    "\n",
    "dataset_name = 'CIFAR100'\n",
    "root_path = 'set path'\n",
    "\n",
    "# Use the following transform for training and testing\n",
    "dataset = load_dataset(\n",
    "    dataset=dataset_name,\n",
    "    root_path=root_path,\n",
    "    val_split=0.0)"
   ]
  },
  {
   "cell_type": "code",
   "execution_count": 50,
   "metadata": {},
   "outputs": [],
   "source": [
    "import numpy as np\n",
    "train_len = dataset.train_length\n",
    "N = 256\n",
    "np.random.seed(0)\n",
    "\n",
    "random_val = np.random.uniform(0, 1, (N//2, train_len))\n",
    "select = np.where(random_val > 0.5, np.ones_like(random_val), np.zeros_like(random_val))\n",
    "select = np.row_stack([select, 1 - select])\n",
    "\n",
    "for i in range(N):\n",
    "    idxs = np.where(select[i] > 0)[0]\n",
    "    np.save(f\"./dataset_idxs/{dataset_name.lower()}/{i}.npy\", idxs)\n"
   ]
  }
 ],
 "metadata": {
  "kernelspec": {
   "display_name": "Python 3",
   "language": "python",
   "name": "python3"
  },
  "language_info": {
   "codemirror_mode": {
    "name": "ipython",
    "version": 3
   },
   "file_extension": ".py",
   "mimetype": "text/x-python",
   "name": "python",
   "nbconvert_exporter": "python",
   "pygments_lexer": "ipython3",
   "version": "3.8.16"
  },
  "orig_nbformat": 4
 },
 "nbformat": 4,
 "nbformat_minor": 2
}
